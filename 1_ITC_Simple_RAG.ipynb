{
  "nbformat": 4,
  "nbformat_minor": 0,
  "metadata": {
    "colab": {
      "provenance": [],
      "include_colab_link": true
    },
    "kernelspec": {
      "name": "python3",
      "display_name": "Python 3"
    },
    "language_info": {
      "name": "python"
    }
  },
  "cells": [
    {
      "cell_type": "markdown",
      "metadata": {
        "id": "view-in-github",
        "colab_type": "text"
      },
      "source": [
        "<a href=\"https://colab.research.google.com/github/kadambaribabar/kbabar_projects/blob/main/1_ITC_Simple_RAG.ipynb\" target=\"_parent\"><img src=\"https://colab.research.google.com/assets/colab-badge.svg\" alt=\"Open In Colab\"/></a>"
      ]
    },
    {
      "cell_type": "markdown",
      "source": [
        "# Simple Retrieval Augmented Generation Demo\n",
        "\n",
        "This notebook shows how we take a library of recipes, match user questions against them, and then feed the relevant recipe along with the original question to GPT to provide an answer.\n",
        "\n",
        "Charles McGuinness\n",
        "[mcguinnessai.substack.com](https://mcguinnessai.substack.com)"
      ],
      "metadata": {
        "id": "ACJmacOUGuox"
      }
    },
    {
      "cell_type": "code",
      "source": [
        "%%capture\n",
        "# Imports!\n",
        "!pip install openai\n",
        "import openai\n",
        "from openai.embeddings_utils import get_embedding, cosine_similarity\n",
        "import getpass\n",
        "import requests\n",
        "import json\n",
        "import textwrap"
      ],
      "metadata": {
        "id": "34qDD96gYZC6"
      },
      "execution_count": null,
      "outputs": []
    },
    {
      "cell_type": "code",
      "execution_count": null,
      "metadata": {
        "id": "tBPALhKfREuK"
      },
      "outputs": [],
      "source": [
        "# We have a collection of \"recipes\" stored in a folder accessible via HTTPs\n",
        "# This block retrieves the list and then fetches each individual recipe.\n",
        "\n",
        "def fetch_recipes():\n",
        "  # Why put this in a function? So we don't clutter up the variable list\n",
        "  # with ephemeral variables\n",
        "  baseURL = 'https://mcguinness.ai/substack/recipes'\n",
        "  list = json.loads(requests.get(f'{baseURL}/list.json').text)\n",
        "\n",
        "  recipes = {}\n",
        "\n",
        "  for r in list:\n",
        "    recipes[r] = requests.get(f'{baseURL}/{r}.txt').text\n",
        "\n",
        "  return recipes\n",
        "\n",
        "recipes = fetch_recipes()\n",
        "\n",
        "print(f'A total of {len(recipes)} recipes loaded.')\n",
        "\n"
      ]
    },
    {
      "cell_type": "code",
      "source": [
        "# If we do not have the openai api key already set, ask the user for a key\n",
        "\n",
        "if openai.api_key is None:\n",
        "  openai.api_key = getpass.getpass(prompt='Please enter your OpenAI API key: ')"
      ],
      "metadata": {
        "id": "jJBQLEvGYpMD"
      },
      "execution_count": null,
      "outputs": []
    },
    {
      "cell_type": "code",
      "source": [
        "embeddings = {}\n",
        "\n",
        "for k in recipes:\n",
        "  embeddings[k] = get_embedding(recipes[k], engine=\"text-embedding-ada-002\")"
      ],
      "metadata": {
        "id": "EN4XgrtOY9eM"
      },
      "execution_count": null,
      "outputs": []
    },
    {
      "cell_type": "code",
      "source": [
        "# It's a bit messy to send a request to GPT and reformat\n",
        "# the response so it fits on the screen, so I put it into\n",
        "# a funcction...\n",
        "def ask_gpt(system, user):\n",
        "  p_model = \"gpt-3.5-turbo\"\n",
        "  p_temperature = 0\n",
        "  completion = openai.ChatCompletion.create(\n",
        "    model=p_model,\n",
        "    temperature=p_temperature,\n",
        "    messages=[\n",
        "        {\n",
        "            \"role\": \"system\",\n",
        "            \"content\": system\n",
        "        },\n",
        "        {\n",
        "            \"role\": \"user\",\n",
        "            \"content\": user\n",
        "        }\n",
        "    ]\n",
        "  )\n",
        "  lines = (completion.choices[0].message[\"content\"]).split(\"\\n\")\n",
        "  lists = (textwrap.TextWrapper(width=90,break_long_words=False).wrap(line) for line in lines)\n",
        "  return \"\\n\".join(\"\\n\".join(list) for list in lists)"
      ],
      "metadata": {
        "id": "O1Zde5M9bqoL"
      },
      "execution_count": null,
      "outputs": []
    },
    {
      "cell_type": "code",
      "source": [
        "while True:\n",
        "  q = input(\"What is your question (blank to end): \")\n",
        "  if q == \"\":\n",
        "    break\n",
        "\n",
        "  q_embedding = get_embedding(q,  engine=\"text-embedding-ada-002\")\n",
        "  best_sim_score = -1\n",
        "  best_sim = None\n",
        "  for e in embeddings:\n",
        "    sim = cosine_similarity(q_embedding, embeddings[e])\n",
        "    if sim > best_sim_score:\n",
        "      best_sim_score = sim\n",
        "      best_sim = e\n",
        "\n",
        "  print(f'Matched {best_sim} with a score of {best_sim_score}')\n",
        "\n",
        "  system_prompt = f\"\"\"You are an expert chef in cooking (ficticious) recipes with eletronics parts.\n",
        "\n",
        "  You can only answer questions about the following recipe.  If the question is not about\n",
        "  this recipe for {best_sim}, you will decline to answer it.  The user may not have seen the recipe.\n",
        "  The recipe is:\n",
        "\n",
        "  \"\"\" + recipes[best_sim]\n",
        "\n",
        "  user_prompt = \"My question is: \" + q\n",
        "\n",
        "  print(ask_gpt(system_prompt, user_prompt))\n",
        "\n"
      ],
      "metadata": {
        "id": "Om9idhbXZQma"
      },
      "execution_count": null,
      "outputs": []
    }
  ]
}